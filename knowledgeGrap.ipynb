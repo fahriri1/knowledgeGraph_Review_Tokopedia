{
 "cells": [
  {
   "cell_type": "code",
   "execution_count": 2,
   "metadata": {},
   "outputs": [
    {
     "name": "stderr",
     "output_type": "stream",
     "text": [
      "C:\\Users\\user\\AppData\\Local\\Temp\\ipykernel_3716\\339290948.py:27: DeprecationWarning: Call to deprecated method findAll. (Replaced by find_all) -- Deprecated since version 4.0.0.\n",
      "  review_elements = soup.findAll(\"article\", attrs={'class':'css-ccpe8t'})\n",
      "C:\\Users\\user\\AppData\\Local\\Temp\\ipykernel_3716\\339290948.py:32: DeprecationWarning: Call to deprecated method findAll. (Replaced by find_all) -- Deprecated since version 4.0.0.\n",
      "  product_container = review.findAll(\"a\",attrs={\"class\":\"styProduct\"})\n"
     ]
    },
    {
     "name": "stdout",
     "output_type": "stream",
     "text": [
      "there is error\n",
      "there is error\n",
      "there is error\n",
      "there is error\n",
      "there is error\n",
      "there is error\n",
      "there is error\n",
      "there is error\n",
      "there is error\n",
      "there is error\n",
      "there is error\n",
      "there is error\n",
      "there is error\n",
      "there is error\n",
      "there is error\n",
      "there is error\n",
      "there is error\n",
      "there is error\n",
      "there is error\n",
      "there is error\n",
      "there is error\n",
      "there is error\n",
      "there is error\n",
      "there is error\n",
      "No more pages.\n",
      "Scraping selesai! Data disimpan dalam tokopedia_reviews.csv\n"
     ]
    }
   ],
   "source": [
    "from selenium import webdriver\n",
    "from selenium.webdriver.common.by import By\n",
    "from selenium.webdriver.chrome.service import Service\n",
    "from webdriver_manager.chrome import ChromeDriverManager\n",
    "from bs4 import BeautifulSoup\n",
    "import time\n",
    "import pandas as pd\n",
    "\n",
    "service = Service(ChromeDriverManager().install())\n",
    "options = webdriver.ChromeOptions()\n",
    "options.add_argument(\"--disable-gpu\")\n",
    "\n",
    "driver = webdriver.Chrome(service=service, options=options)\n",
    "\n",
    "# Ganti dengan URL halaman review toko di Tokopedia\n",
    "url = \"https://www.tokopedia.com/dkmall/review\"\n",
    "\n",
    "driver.get(url)\n",
    "\n",
    "reviews = []\n",
    "\n",
    "while True:\n",
    "    # Ambil elemen review\n",
    "    time.sleep(3)  # Tunggu halaman masuk\n",
    "    soup = BeautifulSoup(driver.page_source, \"html.parser\")\n",
    "    try:\n",
    "        review_elements = soup.findAll(\"article\", attrs={'class':'css-ccpe8t'})\n",
    "\n",
    "        for review in review_elements:\n",
    "            username = review.find(\"span\", attrs={\"class\":\"name\"}).text\n",
    "            comment = review.find(\"span\", attrs={\"data-testid\":\"lblItemUlasan\"}).text\n",
    "            product_container = review.findAll(\"a\",attrs={\"class\":\"styProduct\"})\n",
    "\n",
    "            for element in product_container:\n",
    "                product = review.find(\"p\", attrs={\"data-unify\":\"Typography\"}).text\n",
    "                \n",
    "                reviews.append({\n",
    "                    \"username\": username,\n",
    "                    \"review\": comment,\n",
    "                    \"product\": product\n",
    "                })\n",
    "    except:\n",
    "        print(\"there is error\")\n",
    "        \n",
    "    # Cek apakah ada tombol \"Next\" untuk lanjut ke halaman berikutnya\n",
    "    try:\n",
    "        next_button = driver.find_element(By.CSS_SELECTOR, 'button[aria-label=\"Laman berikutnya\"]')\n",
    "        next_button.click()\n",
    "        time.sleep(2)\n",
    "    except:\n",
    "        print(\"No more pages.\")\n",
    "        break  # Keluar jika tidak ada tombol \"Next\"\n",
    "\n",
    "driver.quit()\n",
    "\n",
    "# Simpan ke CSV\n",
    "df = pd.DataFrame(reviews)\n",
    "df.to_csv(\"tokopedia_review.csv\", index=False)\n",
    "print(\"Scraping selesai! Data disimpan dalam tokopedia_reviews.csv\")"
   ]
  },
  {
   "cell_type": "code",
   "execution_count": 24,
   "metadata": {},
   "outputs": [
    {
     "name": "stdout",
     "output_type": "stream",
     "text": [
      "data dari csv: \n",
      "  username                                             review  \\\n",
      "0    ANDRI  mendarat dengan aman, packing aman, engga boco...   \n",
      "1    K***s  thank you, hotto nya asli, pengiriman cepat, h...   \n",
      "2   Awalia                                             mantap   \n",
      "3    gugun                                               good   \n",
      "4  Marissa                                     sesuai pesanan   \n",
      "\n",
      "                                             product  \n",
      "0  Autumn 7% Glycolic Acid Toner Solution Exfolia...  \n",
      "1  Hotto Purto Multigrain Superfood Purple Potato...  \n",
      "2  Azarine Calm My Acne Sunscreen Moisturiser SPF...  \n",
      "3  Ms Glow Men Energizer Facial Wash / Face Wash ...  \n",
      "4   Golden Viera Soap Original Asli Paket Hemat 3pcs  \n",
      "  username                                             review  \\\n",
      "0    ANDRI  mendarat dengan aman, packing aman, engga boco...   \n",
      "1    K***s  thank you, hotto nya asli, pengiriman cepat, h...   \n",
      "2   Awalia                                             mantap   \n",
      "3    gugun                                               good   \n",
      "4  Marissa                                     sesuai pesanan   \n",
      "\n",
      "                                             product  \\\n",
      "0  Autumn 7% Glycolic Acid Toner Solution Exfolia...   \n",
      "1  Hotto Purto Multigrain Superfood Purple Potato...   \n",
      "2  Azarine Calm My Acne Sunscreen Moisturiser SPF...   \n",
      "3  Ms Glow Men Energizer Facial Wash / Face Wash ...   \n",
      "4   Golden Viera Soap Original Asli Paket Hemat 3pcs   \n",
      "\n",
      "                                        clean_review  \n",
      "0    darat aman packing aman engga bocor kirim cepat  \n",
      "1  thank you hotto nya asli kirim cepat harga sah...  \n",
      "2                                             mantap  \n",
      "3                                               good  \n",
      "4                                       sesuai pesan  \n"
     ]
    }
   ],
   "source": [
    "import pandas as pd\n",
    "from Sastrawi.StopWordRemover.StopWordRemoverFactory import StopWordRemoverFactory\n",
    "from Sastrawi.Stemmer.StemmerFactory import StemmerFactory\n",
    "import re\n",
    "\n",
    "# Load data hasil scraping\n",
    "df = pd.read_csv(\"tokopedia_review.csv\")\n",
    "\n",
    "# Tampilkan contoh data\n",
    "print(\"data dari csv: \")\n",
    "print(df.head())\n",
    "\n",
    "# Inisialisasi stopword remover & stemmer\n",
    "stopword_factory = StopWordRemoverFactory()\n",
    "stopword_remover = stopword_factory.create_stop_word_remover()\n",
    "stemmer_factory = StemmerFactory()\n",
    "stemmer = stemmer_factory.create_stemmer()\n",
    "\n",
    "# Fungsi preprocessing\n",
    "def clean_text(text):\n",
    "    text = text.lower()  # Lowercase\n",
    "    text = re.sub(r'[^a-zA-Z0-9\\s]', '', text)  # Hapus karakter spesial\n",
    "    text = stopword_remover.remove(text)  # Hapus stopword\n",
    "    text = stemmer.stem(text)  # Stemming\n",
    "    return text\n",
    "\n",
    "# Terapkan ke data\n",
    "df[\"clean_review\"] = df[\"review\"].astype(str).apply(clean_text)\n",
    "\n",
    "slang_dict = {\n",
    "    \"yg\": \"yang\",\n",
    "    \"bgt\": \"banget\",\n",
    "    \"tdk\": \"tidak\",\n",
    "    \"gk\": \"gak\",\n",
    "    \"trs\": \"terus\",\n",
    "    \"bnr2\": \"benar-benar\",\n",
    "    \"kayu2\": \"kayu-kayu\",\n",
    "    \"sukaaa\": \"sukaaa\",\n",
    "    \"jd\" : \"jadi\",\n",
    "    \"byk2\" : \"banyak\",\n",
    "    \"mantaaaaaaaaaaaaaaaaaaaaaaaaaaaaaaaaaaaaaaaaaaaaaaaaaaaaaaaaaaaaaaaaaaaaaaaaaaaaaaaaaaaaaaaaaaaaap\": \"mantap\",\n",
    "    \"bsnahabbaabananananananananananananananannaannaananan\":\"\"\n",
    "}\n",
    "\n",
    "def normalize_slang(text):\n",
    "    words = text.split()\n",
    "    words = [slang_dict[word] if word in slang_dict else word for word in words]\n",
    "    return \" \".join(words)\n",
    "\n",
    "df[\"clean_review\"] = df[\"clean_review\"].apply(normalize_slang)\n",
    "print(df.head())"
   ]
  },
  {
   "cell_type": "code",
   "execution_count": 25,
   "metadata": {},
   "outputs": [
    {
     "name": "stdout",
     "output_type": "stream",
     "text": [
      "  username                                             review  \\\n",
      "0    ANDRI  mendarat dengan aman, packing aman, engga boco...   \n",
      "1    K***s  thank you, hotto nya asli, pengiriman cepat, h...   \n",
      "2   Awalia                                             mantap   \n",
      "3    gugun                                               good   \n",
      "4  Marissa                                     sesuai pesanan   \n",
      "\n",
      "                                             product  \\\n",
      "0  Autumn 7% Glycolic Acid Toner Solution Exfolia...   \n",
      "1  Hotto Purto Multigrain Superfood Purple Potato...   \n",
      "2  Azarine Calm My Acne Sunscreen Moisturiser SPF...   \n",
      "3  Ms Glow Men Energizer Facial Wash / Face Wash ...   \n",
      "4   Golden Viera Soap Original Asli Paket Hemat 3pcs   \n",
      "\n",
      "                                        clean_review  \\\n",
      "0    darat aman packing aman engga bocor kirim cepat   \n",
      "1  thank you hotto nya asli kirim cepat harga sah...   \n",
      "2                                             mantap   \n",
      "3                                               good   \n",
      "4                                       sesuai pesan   \n",
      "\n",
      "                                        entities  \n",
      "0  [(aman, PER), (engga bocor kirim cepat, PER)]  \n",
      "1         [(thank you, MISC), (asli kirim, PER)]  \n",
      "2                                             []  \n",
      "3                                             []  \n",
      "4                         [(sesuai pesan, MISC)]  \n"
     ]
    }
   ],
   "source": [
    "import spacy\n",
    "\n",
    "nlp = spacy.load(\"xx_ent_wiki_sm\")  # Model NER multibahasa\n",
    "\n",
    "def extract_entities(text):\n",
    "    doc = nlp(text)\n",
    "    entities = [(ent.text, ent.label_) for ent in doc.ents]\n",
    "    return entities\n",
    "\n",
    "df[\"entities\"] = df[\"clean_review\"].astype(str).apply(extract_entities)\n",
    "print(df.head())"
   ]
  },
  {
   "cell_type": "code",
   "execution_count": 27,
   "metadata": {},
   "outputs": [
    {
     "name": "stdout",
     "output_type": "stream",
     "text": [
      "Warning: When  cdn_resources is 'local' jupyter notebook has issues displaying graphics on chrome/safari. Use cdn_resources='in_line' or cdn_resources='remote' if you have issues viewing graphics in a notebook.\n",
      "knowledge_graph.html\n"
     ]
    },
    {
     "data": {
      "text/html": [
       "\n",
       "        <iframe\n",
       "            width=\"100%\"\n",
       "            height=\"800px\"\n",
       "            src=\"knowledge_graph.html\"\n",
       "            frameborder=\"0\"\n",
       "            allowfullscreen\n",
       "            \n",
       "        ></iframe>\n",
       "        "
      ],
      "text/plain": [
       "<IPython.lib.display.IFrame at 0x2a391a5fc50>"
      ]
     },
     "execution_count": 27,
     "metadata": {},
     "output_type": "execute_result"
    }
   ],
   "source": [
    "import networkx as nx\n",
    "from pyvis.network import Network\n",
    "\n",
    "G = nx.Graph()\n",
    "\n",
    "for index, row in df.iterrows():\n",
    "    user = row[\"username\"]\n",
    "    review = row[\"clean_review\"]\n",
    "    entities = row[\"entities\"]\n",
    "\n",
    "    # Tambahkan node user\n",
    "    G.add_node(user, type=\"User\")\n",
    "\n",
    "    # Tambahkan node entitas (Produk/Sentimen)\n",
    "    for ent_text, ent_label in entities:\n",
    "        G.add_node(ent_text, type=ent_label)\n",
    "        G.add_edge(user, ent_text, relation=\"review\")  # Hubungkan user dengan entitas\n",
    "\n",
    "# Visualisasi Knowledge Graph\n",
    "net = Network(notebook=True, height=\"800px\", width=\"100%\", bgcolor=\"#222222\", font_color=\"white\")\n",
    "net.from_nx(G)\n",
    "\n",
    "# Tambahkan fitur interaktif\n",
    "net.toggle_physics(True)  # Aktifkan fisika agar node tidak tumpang tindih\n",
    "net.force_atlas_2based(gravity=-50, central_gravity=0.01)  # Sesuaikan gaya tarik antar node\n",
    "\n",
    "# Simpan ke file HTML dan tampilkan\n",
    "net.show(\"knowledge_graph.html\")"
   ]
  },
  {
   "cell_type": "code",
   "execution_count": 28,
   "metadata": {},
   "outputs": [
    {
     "name": "stdout",
     "output_type": "stream",
     "text": [
      "['ANDRI is related to aman via review', 'ANDRI is related to engga bocor kirim cepat via review', 'aman is related to ANDRI via review', 'aman is related to Vica via review', 'aman is related to Raflie via review', 'aman is related to S***l via review', 'engga bocor kirim cepat is related to ANDRI via review', 'K***s is related to thank you via review', 'K***s is related to asli kirim via review', 'thank you is related to K***s via review', 'asli kirim is related to K***s via review', 'Marissa is related to sesuai pesan via review', 'sesuai pesan is related to Marissa via review', 'sesuai pesan is related to Zulham via review', 'C***y is related to benar-benar via review', 'C***y is related to gak via review', 'benar-benar is related to C***y via review', 'gak is related to C***y via review', 'd***f is related to wangi via review', 'wangi is related to d***f via review', 'wangi is related to Sulthan via review', 'wangi is related to S***a via review', 'wangi is related to R***n via review', 'wangi is related to D***i via review', 'r***n is related to wangi harum cuman via review', 'wangi harum cuman is related to r***n via review', 'h***f is related to wangi seger via review', 'h***f is related to awal terus via review', 'wangi seger is related to h***f via review', 'awal terus is related to h***f via review', 'A***a is related to emas kirim oke via review', 'A***a is related to barang aman via review', 'A***a is related to moga awet via review', 'A***a is related to real pict via review', 'A***a is related to tulis beda yang asli via review', 'A***a is related to beda yang asli guys via review', 'emas kirim oke is related to A***a via review', 'barang aman is related to A***a via review', 'A***s is related to layan mantap via review', 'A***s is related to barang cman via review', 'A***s is related to expedisinya yang lama via review', 'A***s is related to kirim 6 via review', 'layan mantap is related to A***s via review', 'Zulian is related to stock lama via review', 'stock lama is related to Zulian via review', 'Nono is related to pesan via review', 'Nono is related to cukup aman via review', 'pesan is related to Nono via review', 'cukup aman is related to Nono via review', 'Syah is related to barang terima instan via review', 'barang terima instan is related to Syah via review', 'R***a is related to kurir cepet bublle wrapnya via review', 'R***a is related to makasih sen via review', 'R***a is related to nya aman via review', 'kurir cepet bublle wrapnya is related to R***a via review', 'A***d is related to wangi lembut via review', 'M***y is related to sukaaa bnget via review', 'sukaaa bnget is related to M***y via review', 'R***l is related to bahan via review', 'R***l is related to sih via review', 'bahan is related to R***l via review', 'sih is related to R***l via review', 'sih is related to Ahmad via review', 'sih is related to Icha via review', 'sih is related to Darno via review', 'vandii is related to kerja wangi via review', 'kerja wangi is related to vandii via review', 'barang cman is related to A***s via review', 'expedisinya yang lama is related to A***s via review', 'Guruh is related to toner via review', 'Guruh is related to nya benerbener gong via review', 'Guruh is related to ada via review', 'Guruh is related to saya via review', 'toner is related to Guruh via review', 'nya benerbener gong is related to Guruh via review', 'ada is related to Guruh via review', 'saya is related to Guruh via review', 'P***u is related to setia via review', 'setia is related to P***u via review', 'Sulthan is related to wangi via review', 'rarara is related to bagusss bangetttt via review', 'bagusss bangetttt is related to rarara via review', 'E***o is related to alhamdulillah pesan saya terima baik kirim via review', 'E***o is related to terima kasih buat via review', 'alhamdulillah pesan saya terima baik kirim is related to E***o via review', 'terima kasih buat is related to E***o via review', 'Rendra is related to top via review', 'top is related to Rendra via review', 'Rizqi is related to moga overclaim via review', 'Rizqi is related to yang tipe via review', 'moga overclaim is related to Rizqi via review', 'yang tipe is related to Rizqi via review', 'Moch is related to terima kasih banyak via review', 'terima kasih banyak is related to Moch via review', 'novita is related to tekstur lembutngga via review', 'tekstur lembutngga is related to novita via review', 'p***e is related to sesuai pesan kirim via review', 'sesuai pesan kirim is related to p***e via review', 'Lasmini is related to barang yang via review', 'Lasmini is related to yang pertama via review', 'Lasmini is related to klo yang via review', 'Lasmini is related to yang sekar via review', 'barang yang is related to Lasmini via review', 'yang pertama is related to Lasmini via review', 'klo yang is related to Lasmini via review', 'yang sekar is related to Lasmini via review', 'GeeK is related to trima kasih paket via review', 'trima kasih paket is related to GeeK via review', 'Zarya is related to paket aman via review', 'Zarya is related to exp lama via review', 'Zarya is related to ina kasig via review', 'paket aman is related to Zarya via review', 'exp lama is related to Zarya via review', 'ina kasig is related to Zarya via review', 'jumaini is related to ada hasil 2 via review', 'ada hasil 2 is related to jumaini via review', 'kirim 6 is related to A***s via review', 'susilawati is related to cepatbpengirimannya via review', 'cepatbpengirimannya is related to susilawati via review', 'f***i is related to cuman kirim aja lama via review', 'f***i is related to kalau habis via review', 'cuman kirim aja lama is related to f***i via review', 'Bayu is related to bagus via review', 'Bayu is related to bahan ringan via review', 'bagus is related to Bayu via review', 'bagus is related to Annishaa via review', 'bagus is related to Yustian via review', 'bagus is related to Mamik via review', 'bagus is related to Gunawan via review', 'bagus is related to Rully via review', 'bagus is related to S***i via review', 'G***g is related to yang black via review', 'G***g is related to yang maniss kalo via review', 'yang black is related to G***g via review', 'yang maniss kalo is related to G***g via review', 'Annishaa is related to bagus via review', 'Muhammad is related to bagus cepat via review', 'Muhammad is related to kardus mantep via review', 'Muhammad is related to makas hantar cepet via review', 'bagus cepat is related to Muhammad via review', 'Diffa is related to lucu bangett via review', 'lucu bangett is related to Diffa via review', 'mitha is related to tekstur ringan wangi via review', 'tekstur ringan wangi is related to mitha via review', 'R***d is related to pesan yang coklat via review', 'pesan yang coklat is related to R***d via review', 'zzavii is related to tanggal via review', 'zzavii is related to harga via review', 'tanggal is related to zzavii via review', 'harga is related to zzavii via review', 'harga is related to d***a via review', 'T***a is related to bagus banget via review', 'T***a is related to bangetdan melembabkan via review', 'bagus banget is related to T***a via review', 'bagus banget is related to a***h via review', 'bangetdan melembabkan is related to T***a via review', 'pagimin is related to cepet via review', 'cepet is related to pagimin via review', 'Irman is related to cik via review', 'cik is related to Irman via review', 'Asih is related to seperti barang yang terima via review', 'Asih is related to isi air putih via review', 'Asih is related to yang tutup via review', 'seperti barang yang terima is related to Asih via review', 'isi air putih is related to Asih via review', 'yang tutup is related to Asih via review', 'iwi is related to udh via review', 'udh is related to iwi via review', 'udh is related to Icha via review', 'udh is related to d***a via review', 'Vica is related to alhamdulillah pesan via review', 'Vica is related to aman via review', 'alhamdulillah pesan is related to Vica via review', 'Galang is related to kaget pake via review', 'Galang is related to dapet bonus via review', 'kaget pake is related to Galang via review', 'dapet bonus is related to Galang via review', 'N***i is related to alhamdulillah aman via review', 'N***i is related to asli via review', 'G***a is related to paket sdh via review', 'G***a is related to amn via review', 'paket sdh is related to G***a via review', 'amn is related to G***a via review', 'Luqman is related to awal ken bira via review', 'awal ken bira is related to Luqman via review', 'Landung is related to wangi fresh via review', 'wangi fresh is related to Landung via review', 'ADANI is related to kirim cepat via review', 'kirim cepat is related to ADANI via review', 'moga awet is related to A***a via review', 'Howdy is related to sesuai order via review', 'sesuai order is related to Howdy via review', 'Ahmad is related to sih via review', 'Ahmad is related to kirim sangat via review', 'rahma is related to pertama x via review', 'pertama x is related to rahma via review', 'Jamal is related to mantep pokoknyasemoga awet via review', 'mantep pokoknyasemoga awet is related to Jamal via review', 'bahan ringan is related to Bayu via review', 'bahan ringan is related to Shofiyyah via review', 'bahan ringan is related to Risa via review', 'diana is related to bocor via review', 'bocor is related to diana via review', 'Risky is related to sipp via review', 'sipp is related to Risky via review', 'F***n is related to oke oke via review', 'F***n is related to mantaappp via review', 'oke oke is related to F***n via review', 'kirim sangat is related to Ahmad via review', 'D***i is related to wangi baby via review', 'D***i is related to wangi via review', 'Hera is related to baru via review', 'baru is related to Hera via review', 'baru is related to n***y via review', 'baru is related to S***i via review', 'baru is related to g***y via review', 'Mardi is related to produk kurang via review', 'Mardi is related to hasil kurang via review', 'Mardi is related to mana guna via review', 'produk kurang is related to Mardi via review', 'hasil kurang is related to Mardi via review', 'mana guna is related to Mardi via review', 'Gie is related to cewek via review', 'Gie is related to ena via review', 'Gie is related to cerah cuma via review', 'cewek is related to Gie via review', 'ena is related to Gie via review', 'cerah cuma is related to Gie via review', 'D***a is related to lumayan tahan via review', 'D***a is related to wangi banget via review', 'lumayan tahan is related to D***a via review', 'F***h is related to oke via review', 'F***h is related to aman exp via review', 'F***h is related to aman mantap via review', 'oke is related to F***h via review', 'oke is related to B***t via review', 'aman exp is related to F***h via review', 'aman mantap is related to F***h via review', 'Erni is related to krim nya via review', 'krim nya is related to Erni via review', 'kardus mantep is related to Muhammad via review', 'Apipudin is related to mantaappp via review', 'Apipudin is related to mantaaappp via review', 'mantaappp is related to Apipudin via review', 'mantaappp is related to F***n via review', 'mantaaappp is related to Apipudin via review', 'alpa is related to maannntaaaappp via review', 'alpa is related to joosss via review', 'maannntaaaappp is related to alpa via review', 'joosss is related to alpa via review', 'nur is related to wangi bener via review', 'wangi bener is related to nur via review', 'M***d is related to barang datang cepat cuman via review', 'Zulham is related to sesuai pesan via review', 's***a is related to ori harga via review', 's***a is related to jangkau adminnya ramah via review', 's***a is related to biasa aja wangi via review', 's***a is related to dominan alkohol dry downnya via review', 'ori harga is related to s***a via review', 'jangkau adminnya ramah is related to s***a via review', 'kusmana is related to terima kirim cepat via review', 'terima kirim cepat is related to kusmana via review', 'kayvan is related to alhamdulillah barang sampai via review', 'kayvan is related to upp via review', 'alhamdulillah barang sampai is related to kayvan via review', 'upp is related to kayvan via review', 'Bagus is related to yang keluh via review', 'Bagus is related to jangan kerjasama via review', 'Bagus is related to jne pliss via review', 'yang keluh is related to Bagus via review', 'jangan kerjasama is related to Bagus via review', 'jne pliss is related to Bagus via review', 'R***u is related to wangi bagus kok via review', 'R***u is related to kalo kena via review', 'wangi bagus kok is related to R***u via review', 'kalo kena is related to R***u via review', 'Anakva is related to jos via review', 'jos is related to Anakva via review', 'Yustian is related to bagus via review', 'F***Y is related to bagussss via review', 'bagussss is related to F***Y via review', 'B***s is related to ori jngn ragu via review', 'B***s is related to nya enak lumayan via review', 'ori jngn ragu is related to B***s via review', 'wangi lembut is related to A***d via review', 'A***l is related to alhamdulillah akhir via review', 'alhamdulillah akhir is related to A***l via review', 'Mamik is related to bagus via review', 'Wahyu is related to wangi sangat nyaman via review', 'wangi sangat nyaman is related to Wahyu via review', 'c***o is related to nice via review', 'nice is related to c***o via review', 'huff is related to wangi g via review', 'wangi g is related to huff via review', 'Antonius is related to layan cepat kirim via review', 'Antonius is related to terima kasih via review', 'layan cepat kirim is related to Antonius via review', 'terima kasih is related to Antonius via review', 'terima kasih is related to Fery via review', 'Hidayanto is related to barang sampai via review', 'barang sampai is related to Hidayanto via review', 'Marselinus is related to kojie san body via review', 'kojie san body is related to Marselinus via review', 's***u is related to baru mau cobasemoga via review', 'baru mau cobasemoga is related to s***u via review', 'L***y is related to yang terima via review', 'yang terima is related to L***y via review', 'C***e is related to kirim standart via review', 'kirim standart is related to C***e via review', 'Shofiyyah is related to bahan ringan via review', 'Shofiyyah is related to pokok via review', 'pokok is related to Shofiyyah via review', 'P***i is related to suka bangett via review', 'suka bangett is related to P***i via review', 'n***y is related to baru via review', 'A***i is related to mantaf via review', 'A***i is related to alhamdulillah brg selamat via review', 'mantaf is related to A***i via review', 'R***o is related to meski via review', 'R***o is related to aman meski via review', 'R***o is related to lempar kurir via review', 'meski is related to R***o via review', 'aman meski is related to R***o via review', 'lempar kurir is related to R***o via review', 'a***a is related to mantappp via review', 'a***a is related to sesuai banget via review', 'a***a is related to baguuusss bangetaku via review', 'mantappp is related to a***a via review', 'Fery is related to terima kasih via review', 'F***d is related to ada white via review', 'ada white is related to F***d via review', 'Fauziah is related to bagus cuman bukan botol via review', 'bagus cuman bukan botol is related to Fauziah via review', 'V***a is related to seri wangi via review', 'V***a is related to kurang inti spl kurang via review', 'V***a is related to ini via review', 'V***a is related to wangi masih via review', 'V***a is related to tahan via review', 'seri wangi is related to V***a via review', 'kurang inti spl kurang is related to V***a via review', 'ini is related to V***a via review', 'wangi masih is related to V***a via review', 'tahan is related to V***a via review', 'Raflie is related to mantap barang via review', 'Raflie is related to aman via review', 'mantap barang is related to Raflie via review', 'Febri is related to aku via review', 'aku is related to Febri via review', 'dini is related to oke bgtt via review', 'oke bgtt is related to dini via review', 'L***a is related to sugoi via review', 'sugoi is related to L***a via review', 'j***a is related to suka banget via review', 'suka banget is related to j***a via review', 'yhw is related to barang bagus laku via review', 'yhw is related to pun ga kirim via review', 'yhw is related to pagi2 via review', 'barang bagus laku is related to yhw via review', 'pun ga kirim is related to yhw via review', 'pagi2 is related to yhw via review', 'Benny is related to kemarin tanya apa kirim via review', 'Benny is related to jawab saya bayar via review', 'Benny is related to biaya kirim via review', 'Benny is related to hari kalau via review', 'kemarin tanya apa kirim is related to Benny via review', 'jawab saya bayar is related to Benny via review', 'biaya kirim is related to Benny via review', 'hari kalau is related to Benny via review', 'r***a is related to aman pokok via review', 'r***a is related to bahan nya ringgap via review', 'aman pokok is related to r***a via review', 'b***y is related to koq aku coba cek via review', 'b***y is related to baca yaharusnya via review', 'b***y is related to nama via review', 'koq aku coba cek is related to b***y via review', 'baca yaharusnya is related to b***y via review', 'nama is related to b***y via review', 'K***a is related to jual via review', 'jual is related to K***a via review', 'N***e is related to id express via review', 'id express is related to N***e via review', 'Ivan is related to tampak lebih via review', 'tampak lebih is related to Ivan via review', 'a***h is related to bagus banget via review', 'a***h is related to texturenya ringan via review', 'texturenya ringan is related to a***h via review', 'Laili is related to barang okey via review', 'barang okey is related to Laili via review', 'Adinna is related to bagusss lembutt via review', 'bagusss lembutt is related to Adinna via review', 'A***r is related to mantep cuma via review', 'A***r is related to cepat via review', 'mantep cuma is related to A***r via review', 'alhamdulillah brg selamat is related to A***i via review', 'F***a is related to oriii via review', 'oriii is related to F***a via review', 'S***i is related to baru pertama via review', 'S***i is related to sd via review', 'S***i is related to baru via review', 'S***i is related to kalo iklan yang via review', 'S***i is related to bagus via review', 'bahan nya ringgap is related to r***a via review', 'sesuai banget is related to a***a via review', 'd***i is related to melembabkan beruntus kurang via review', 'd***i is related to kurang bagus via review', 'melembabkan beruntus kurang is related to d***i via review', 'kurang bagus is related to d***i via review', 'makasih sen is related to R***a via review', 'Fadila is related to bahan nya via review', 'bahan nya is related to Fadila via review', 'baru pertama is related to S***i via review', 'baru pertama is related to Sofia via review', 'N***a is related to maaf min via review', 'N***a is related to malah jadi via review', 'maaf min is related to N***a via review', 'malah jadi is related to N***a via review', 'sasmita is related to teman via review', 'teman is related to sasmita via review', 'Risa is related to bahan ringan via review', 'Risa is related to trus bagus banget via review', 'trus bagus banget is related to Risa via review', 'nya enak lumayan is related to B***s via review', 'M***S is related to bakal via review', 'bakal is related to M***S via review', 'Y***i is related to bagus harum via review', 'bagus harum is related to Y***i via review', 'sd is related to S***i via review', 'Yustivan is related to mantan kirim cepat via review', 'mantan kirim cepat is related to Yustivan via review', 'Dewi is related to tokopedia via review', 'Dewi is related to nya soft via review', 'tokopedia is related to Dewi via review', 'Azka is related to beli dapet via review', 'beli dapet is related to Azka via review', 'Angga is related to aroma enak meski via review', 'Angga is related to kurang lama via review', 'aroma enak meski is related to Angga via review', 'kurang lama is related to Angga via review', 'real pict is related to A***a via review', 'nya soft is related to Dewi via review', 'Vivi is related to aku bangett via review', 'Vivi is related to beli akhir kebel via review', 'aku bangett is related to Vivi via review', 'beli akhir kebel is related to Vivi via review', 'kalau habis is related to f***i via review', 'S***a is related to wangi via review', 'Kj is related to wangi bakal via review', 'wangi bakal is related to Kj via review', 'M***a is related to mungil via review', 'mungil is related to M***a via review', 'm***n is related to salah kirim via review', 'salah kirim is related to m***n via review', 'salah kirim is related to m via review', 'B***t is related to oke via review', 'I***a is related to barang via review', 'barang is related to I***a via review', 'Sri is related to produknyakwalitasnya bgssy via review', 'Sri is related to keringlembab terus via review', 'produknyakwalitasnya bgssy is related to Sri via review', 'keringlembab terus is related to Sri via review', 'wangi banget is related to D***a via review', 'o***a is related to nya ringan bahan via review', 'nya ringan bahan is related to o***a via review', 'Ramadhan is related to jadi kaya via review', 'jadi kaya is related to Ramadhan via review', 'Nina is related to wangi tahan via review', 'wangi tahan is related to Nina via review', 'wangi tahan is related to Z***a via review', 'alkahfi is related to bakal beli mulu via review', 'bakal beli mulu is related to alkahfi via review', 'alhamdulillah aman is related to N***i via review', 'Meli is related to bgus via review', 'bgus is related to Meli via review', 'Wuriono is related to ampuh hilang via review', 'ampuh hilang is related to Wuriono via review', 'dino is related to langgan via review', 'langgan is related to dino via review', 'D***k is related to barang datang aman via review', 'barang datang aman is related to D***k via review', 'D***y is related to barang bagus via review', 'barang bagus is related to D***y via review', 'David is related to salah bisa via review', 'salah bisa is related to David via review', 'wangi baby is related to D***i via review', 'Daniel is related to super aman via review', 'super aman is related to Daniel via review', 'a***o is related to yang jerawat via review', 'yang jerawat is related to a***o via review', 'd***a is related to makasih ka via review', 'd***a is related to udh via review', 'd***a is related to harga via review', 'd***a is related to yang lumayan via review', 'Dika is related to artha via review', 'Dika is related to wajah nyaenak banget muka via review', 'artha is related to Dika via review', 'wajah nyaenak banget muka is related to Dika via review', 'a***n is related to lembut wangi enak via review', 'a***n is related to bkin fresh via review', 'Icha is related to udh via review', 'Icha is related to balik jkt via review', 'Icha is related to sih via review', 'Icha is related to cakep smg bibir via review', 'balik jkt is related to Icha via review', 'cakep smg bibir is related to Icha via review', 'Zahra is related to g2g via review', 'g2g is related to Zahra via review', 'R***n is related to wangi via review', 'Yudi is related to meski salah kirim via review', 'Puji is related to nya kurang via review', 'Puji is related to mohon beri via review', 'nya kurang is related to Puji via review', 'mohon beri is related to Puji via review', 'Syaiful is related to exp msih via review', 'exp msih is related to Syaiful via review', 'Yanuar is related to dapet harga via review', 'dapet harga is related to Yanuar via review', 'dapet harga is related to iwan via review', 'T***i is related to catat tulis via review', 'Mario is related to ori via review', 'ori is related to Mario via review', 'baguuusss bangetaku is related to a***a via review', 'Gunawan is related to bagus via review', 'Gunawan is related to suuper via review', 'Gunawan is related to selalu langgan toko via review', 'Gunawan is related to love it via review', 'suuper is related to Gunawan via review', 'selalu langgan toko is related to Gunawan via review', 'love it is related to Gunawan via review', 'herdika is related to aroma kurang via review', 'aroma kurang is related to herdika via review', 'dedeh is related to bodynya blepot via review', 'bodynya blepot is related to dedeh via review', 'barang datang cepat cuman is related to M***d via review', 'V***y is related to wangi harumhalus via review', 'wangi harumhalus is related to V***y via review', 'Danar is related to langgan sini via review', 'Danar is related to barcode tembus via review', 'langgan sini is related to Danar via review', 'barcode tembus is related to Danar via review', 'Jingga is related to barang pesan saya terima via review', 'barang pesan saya terima is related to Jingga via review', 'I***u is related to harum via review', 'harum is related to I***u via review', 'iwan is related to dapet harga via review', 'Darno is related to sih via review', 'Darno is related to dong wangiiiii via review', 'dong wangiiiii is related to Darno via review', 'biasa aja wangi is related to s***a via review', 'dominan alkohol dry downnya is related to s***a via review', 'asli is related to N***i via review', 'e***a is related to pesan masker via review', 'e***a is related to yang kirim via review', 'e***a is related to ringan tidak via review', 'pesan masker is related to e***a via review', 'yang kirim is related to e***a via review', 'sukmawati is related to sen 2 via review', 'sukmawati is related to yang pertama kok via review', 'sukmawati is related to hijaudan aja jaring via review', 'sukmawati is related to sabunnyaterus via review', 'sen 2 is related to sukmawati via review', 'yang pertama kok is related to sukmawati via review', 'hijaudan aja jaring is related to sukmawati via review', 'sabunnyaterus is related to sukmawati via review', 'Widyawati is related to alhamdulillah dpt harga via review', 'alhamdulillah dpt harga is related to Widyawati via review', 'catat tulis is related to T***i via review', 'Nia is related to alhamdulillah kulit via review', 'alhamdulillah kulit is related to Nia via review', 'makas hantar cepet is related to Muhammad via review', 'cepat is related to A***r via review', 'h***r is related to sesuai kirim via review', 'h***r is related to aman makasih via review', 'sesuai kirim is related to h***r via review', 'aman makasih is related to h***r via review', 'A***y is related to bahan ringangampang bersih gamp via review', 'bahan ringangampang bersih gamp is related to A***y via review', 'Z***a is related to wangi tahan via review', 'S***l is related to aman via review', 'S***l is related to halus brown via review', 'halus brown is related to S***l via review', 'agustian is related to barang bagus kira via review', 'barang bagus kira is related to agustian via review', 'Rully is related to bagus via review', 'nya aman is related to R***a via review', 's***o is related to aman kemas via review', 'aman kemas is related to s***o via review', 'ringan tidak is related to e***a via review', 'D***o is related to mwantabs kirim via review', 'mwantabs kirim is related to D***o via review', 'S***A is related to baru pertama kali via review', 'baru pertama kali is related to S***A via review', 'Transporter is related to jual cepat via review', 'Transporter is related to jadwal terima via review', 'jual cepat is related to Transporter via review', 'jadwal terima is related to Transporter via review', 'B***i is related to mantaps via review', 'mantaps is related to B***i via review', 'makasih ka is related to d***a via review', 'yang lumayan is related to d***a via review', 'meski salah kirim is related to Yudi via review', 'Julian is related to pesan terima via review', 'Julian is related to harap terima kasih via review', 'pesan terima is related to Julian via review', 'harap terima kasih is related to Julian via review', 'anton is related to mantabbbss via review', 'mantabbbss is related to anton via review', 'm is related to kalau kirim via review', 'm is related to salah kirim via review', 'm is related to barang saya via review', 'kalau kirim is related to m via review', 'barang saya is related to m via review', 'Bambang is related to mutih via review', 'mutih is related to Bambang via review', 'tulis beda yang asli is related to A***a via review', 'beda yang asli guys is related to A***a via review', 'Sofia is related to baru pertama via review', 'kalo iklan yang is related to S***i via review', 'F***y is related to mantappp meski via review', 'mantappp meski is related to F***y via review', 'Barkah is related to harum melembabkan via review', 'harum melembabkan is related to Barkah via review', 'Risyandini is related to nya kirim via review', 'nya kirim is related to Risyandini via review', 'g***y is related to baru via review', 'g***y is related to aku aman via review', 'aku aman is related to g***y via review', 'J***s is related to banget via review', 'banget is related to J***s via review', 'Musyarofah is related to pesan harum via review', 'pesan harum is related to Musyarofah via review', 'lembut wangi enak is related to a***n via review', 'bkin fresh is related to a***n via review']\n"
     ]
    }
   ],
   "source": [
    "# Convert nodes and edges into sentences\n",
    "def graph_to_text(graph):\n",
    "    text_data = []\n",
    "    for node in graph.nodes():\n",
    "        relations = [f\"{node} is related to {nbr} via {graph[node][nbr]['relation']}\"\n",
    "                     for nbr in graph.neighbors(node)]\n",
    "        text_data.extend(relations)\n",
    "    return text_data\n",
    "\n",
    "text_corpus = graph_to_text(G)\n",
    "print(text_corpus)"
   ]
  },
  {
   "cell_type": "code",
   "execution_count": 29,
   "metadata": {},
   "outputs": [
    {
     "name": "stderr",
     "output_type": "stream",
     "text": [
      "c:\\Users\\user\\AppData\\Local\\Programs\\Python\\Python311\\Lib\\site-packages\\tqdm\\auto.py:21: TqdmWarning: IProgress not found. Please update jupyter and ipywidgets. See https://ipywidgets.readthedocs.io/en/stable/user_install.html\n",
      "  from .autonotebook import tqdm as notebook_tqdm\n",
      "c:\\Users\\user\\AppData\\Local\\Programs\\Python\\Python311\\Lib\\site-packages\\huggingface_hub\\file_download.py:140: UserWarning: `huggingface_hub` cache-system uses symlinks by default to efficiently store duplicated files but your machine does not support them in C:\\Users\\user\\.cache\\huggingface\\hub\\models--sentence-transformers--all-MiniLM-L6-v2. Caching files will still work but in a degraded version that might require more space on your disk. This warning can be disabled by setting the `HF_HUB_DISABLE_SYMLINKS_WARNING` environment variable. For more details, see https://huggingface.co/docs/huggingface_hub/how-to-cache#limitations.\n",
      "To support symlinks on Windows, you either need to activate Developer Mode or to run Python as an administrator. In order to activate developer mode, see this article: https://docs.microsoft.com/en-us/windows/apps/get-started/enable-your-device-for-development\n",
      "  warnings.warn(message)\n"
     ]
    },
    {
     "name": "stdout",
     "output_type": "stream",
     "text": [
      "FAISS Index contains 632 vectors\n"
     ]
    }
   ],
   "source": [
    "from sentence_transformers import SentenceTransformer\n",
    "import faiss\n",
    "import numpy as np\n",
    "\n",
    "# Load embedding model\n",
    "embedder = SentenceTransformer(\"all-MiniLM-L6-v2\")\n",
    "\n",
    "# Convert text corpus to embeddings\n",
    "embeddings = embedder.encode(text_corpus)\n",
    "embeddings = np.array(embeddings).astype(\"float32\")\n",
    "\n",
    "# Create FAISS index\n",
    "index = faiss.IndexFlatL2(embeddings.shape[1])  # L2 distance (cosine similarity)\n",
    "index.add(embeddings)\n",
    "\n",
    "print(f\"FAISS Index contains {index.ntotal} vectors\")"
   ]
  },
  {
   "cell_type": "code",
   "execution_count": 35,
   "metadata": {},
   "outputs": [
    {
     "name": "stdout",
     "output_type": "stream",
     "text": [
      "Retrieved Knowledge: ['bagus is related to S***i via review', 'S***i is related to bagus via review', 'bagus is related to Bayu via review']\n"
     ]
    }
   ],
   "source": [
    "def retrieve_knowledge(query, top_k=3):\n",
    "    query_embedding = embedder.encode([query]).astype(\"float32\")\n",
    "    distances, indices = index.search(query_embedding, top_k)\n",
    "    \n",
    "    retrieved_info = [text_corpus[idx] for idx in indices[0] if idx < len(text_corpus)]\n",
    "    return retrieved_info\n",
    "\n",
    "query = \"Review bagus\"\n",
    "retrieved = retrieve_knowledge(query)\n",
    "print(\"Retrieved Knowledge:\", retrieved)"
   ]
  }
 ],
 "metadata": {
  "kernelspec": {
   "display_name": "Python 3",
   "language": "python",
   "name": "python3"
  },
  "language_info": {
   "codemirror_mode": {
    "name": "ipython",
    "version": 3
   },
   "file_extension": ".py",
   "mimetype": "text/x-python",
   "name": "python",
   "nbconvert_exporter": "python",
   "pygments_lexer": "ipython3",
   "version": "3.11.7"
  }
 },
 "nbformat": 4,
 "nbformat_minor": 2
}
